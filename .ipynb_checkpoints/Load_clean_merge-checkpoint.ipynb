{
 "cells": [
  {
   "cell_type": "code",
   "execution_count": 2,
   "id": "84684421-89c1-4d8a-a5a1-9ae23b81ca05",
   "metadata": {},
   "outputs": [
    {
     "name": "stdout",
     "output_type": "stream",
     "text": [
      "CPU times: user 13 s, sys: 597 ms, total: 13.6 s\n",
      "Wall time: 13.6 s\n"
     ]
    }
   ],
   "source": [
    "%%time\n",
    "from __future__ import annotations\n",
    "import pandas as pd\n",
    "import preprocessing as pp\n",
    "\n",
    "# Load dataset (As a tuple of three DFs)\n",
    "dfs: tuple[pd.DataFrame] = pp.load_dataset()\n",
    "# Clean datasets\n",
    "pp.clean_datasets(dfs)"
   ]
  },
  {
   "cell_type": "code",
   "execution_count": 4,
   "id": "af3842d5-0c0d-4dcd-8a95-db53e31c864c",
   "metadata": {},
   "outputs": [
    {
     "name": "stdout",
     "output_type": "stream",
     "text": [
      "   id_audit  customer  serial    D4    D5    D6    D8    D9   D10   D18  \\\n",
      "0        21         2   15551  25.0  24.0  28.5  28.3  25.8  30.5  33.6   \n",
      "1        23         2   15403  45.0  45.5  48.0  45.5  45.8  52.3  55.0   \n",
      "2        25         2   16084  52.8  53.8  59.0  50.5  50.5  56.0  65.7   \n",
      "3       147         2   17087  23.5  23.8  26.3  23.5  23.0  23.0  31.2   \n",
      "4       746         2   15486  37.0  36.3  35.8  31.8  31.3  36.0  46.3   \n",
      "\n",
      "   Dwatts  Ddbm  Ewatts   Edbm  Fwatts   Fdbm  Gwatts   Gdbm  Hwatts   Hdbm  \n",
      "0    20.0  43.0    40.0  46.15    40.0  46.15    40.0  46.20    40.0  46.20  \n",
      "1    40.0  46.0    60.0  47.40    60.0  47.40    60.0  47.34    60.0  47.34  \n",
      "2    40.0  46.0    60.0  47.13    60.0  47.13    60.0  47.40    60.0  47.40  \n",
      "3    20.0  43.0    20.0  43.00    20.0  43.00    20.0  43.00    20.0  43.00  \n",
      "4    40.0  46.0    60.0  47.41    60.0  47.41    60.0  47.46    60.0  47.46  \n",
      "CPU times: user 3 s, sys: 280 ms, total: 3.28 s\n",
      "Wall time: 3.29 s\n"
     ]
    }
   ],
   "source": [
    "%%time\n",
    "# Merge the three DFs into one\n",
    "df_merged = pp.merge_datasets(dfs)\n",
    "print(df_merged[['id_audit', 'customer', 'serial', 'D4', 'D5', 'D6', 'D8', 'D9', 'D10', 'D18', 'Dwatts', 'Ddbm', 'Ewatts', 'Edbm', 'Fwatts', 'Fdbm', 'Gwatts', 'Gdbm', 'Hwatts', 'Hdbm']].head())"
   ]
  }
 ],
 "metadata": {
  "kernelspec": {
   "display_name": "Python 3 (ipykernel)",
   "language": "python",
   "name": "python3"
  },
  "language_info": {
   "codemirror_mode": {
    "name": "ipython",
    "version": 3
   },
   "file_extension": ".py",
   "mimetype": "text/x-python",
   "name": "python",
   "nbconvert_exporter": "python",
   "pygments_lexer": "ipython3",
   "version": "3.8.10"
  }
 },
 "nbformat": 4,
 "nbformat_minor": 5
}
