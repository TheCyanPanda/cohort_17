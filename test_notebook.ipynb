{
 "cells": [
  {
   "cell_type": "code",
   "execution_count": 13,
   "id": "ca9d67cb-510e-4032-81bc-18077fa5e5bf",
   "metadata": {},
   "outputs": [
    {
     "name": "stdout",
     "output_type": "stream",
     "text": [
      "   id_field_values  id_ftp  id_audit  temperature       sensor\n",
      "0            41310     108       147         23.5  TSensor_D4_\n",
      "1            41311     108       147         23.8  TSensor_D5_\n",
      "2            41312     108       147         26.3  TSensor_D6_\n",
      "3            41313     108       147         23.5  TSensor_D8_\n",
      "4            41314     108       147         23.0  TSensor_D9_\n",
      "   id_trx_status  id_audit branch_header  power_dbm  powerclass_watt\n",
      "0           2917        21      Branch A      43.00               20\n",
      "1           3008        21      Branch B      43.00               20\n",
      "2           3099        21      Branch C      43.00               20\n",
      "3           3190        21      Branch D      43.00               20\n",
      "4           3286        21      Branch E      46.15               40\n",
      "   id_audit  customer  serial\n",
      "0        21         2   15551\n",
      "1        23         2   15403\n",
      "2        25         2   16084\n",
      "3       147         2   17087\n",
      "4       746         2   15486\n"
     ]
    }
   ],
   "source": [
    "from __future__ import annotations\n",
    "import utils\n",
    "import pandas as pd\n",
    "\n",
    "df = utils.load_datasets(clean=True)\n",
    "for d in df:\n",
    "    print(d.head())"
   ]
  },
  {
   "cell_type": "code",
   "execution_count": null,
   "id": "b759b6b1-2b99-4436-a9b0-881da360d367",
   "metadata": {},
   "outputs": [],
   "source": [
    "\n"
   ]
  }
 ],
 "metadata": {
  "kernelspec": {
   "display_name": "Python 3 (ipykernel)",
   "language": "python",
   "name": "python3"
  },
  "language_info": {
   "codemirror_mode": {
    "name": "ipython",
    "version": 3
   },
   "file_extension": ".py",
   "mimetype": "text/x-python",
   "name": "python",
   "nbconvert_exporter": "python",
   "pygments_lexer": "ipython3",
   "version": "3.8.10"
  }
 },
 "nbformat": 4,
 "nbformat_minor": 5
}
